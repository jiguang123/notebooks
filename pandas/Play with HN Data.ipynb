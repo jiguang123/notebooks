{
 "cells": [
  {
   "cell_type": "markdown",
   "metadata": {},
   "source": [
    "# Playing with HN data"
   ]
  },
  {
   "cell_type": "markdown",
   "metadata": {},
   "source": [
    "Ask some interesting questions on the HN post dataset and figure out the answer using Pandas."
   ]
  },
  {
   "cell_type": "code",
   "execution_count": 3,
   "metadata": {
    "collapsed": true
   },
   "outputs": [],
   "source": [
    "import pandas as pd\n",
    "import numpy as np\n",
    "\n",
    "%matplotlib inline"
   ]
  },
  {
   "cell_type": "code",
   "execution_count": 4,
   "metadata": {
    "collapsed": false
   },
   "outputs": [
    {
     "data": {
      "text/html": [
       "<div>\n",
       "<table border=\"1\" class=\"dataframe\">\n",
       "  <thead>\n",
       "    <tr style=\"text-align: right;\">\n",
       "      <th></th>\n",
       "      <th>title</th>\n",
       "      <th>url</th>\n",
       "      <th>num_points</th>\n",
       "      <th>num_comments</th>\n",
       "      <th>author</th>\n",
       "      <th>created_at</th>\n",
       "    </tr>\n",
       "    <tr>\n",
       "      <th>id</th>\n",
       "      <th></th>\n",
       "      <th></th>\n",
       "      <th></th>\n",
       "      <th></th>\n",
       "      <th></th>\n",
       "      <th></th>\n",
       "    </tr>\n",
       "  </thead>\n",
       "  <tbody>\n",
       "    <tr>\n",
       "      <th>12579008</th>\n",
       "      <td>You have two days to comment if you want stem ...</td>\n",
       "      <td>http://www.regulations.gov/document?D=FDA-2015...</td>\n",
       "      <td>1</td>\n",
       "      <td>0</td>\n",
       "      <td>altstar</td>\n",
       "      <td>2016-09-26 03:26:00</td>\n",
       "    </tr>\n",
       "    <tr>\n",
       "      <th>12579005</th>\n",
       "      <td>SQLAR  the SQLite Archiver</td>\n",
       "      <td>https://www.sqlite.org/sqlar/doc/trunk/README.md</td>\n",
       "      <td>1</td>\n",
       "      <td>0</td>\n",
       "      <td>blacksqr</td>\n",
       "      <td>2016-09-26 03:24:00</td>\n",
       "    </tr>\n",
       "    <tr>\n",
       "      <th>12578997</th>\n",
       "      <td>What if we just printed a flatscreen televisio...</td>\n",
       "      <td>https://medium.com/vanmoof/our-secrets-out-f21...</td>\n",
       "      <td>1</td>\n",
       "      <td>0</td>\n",
       "      <td>pavel_lishin</td>\n",
       "      <td>2016-09-26 03:19:00</td>\n",
       "    </tr>\n",
       "    <tr>\n",
       "      <th>12578989</th>\n",
       "      <td>algorithmic music</td>\n",
       "      <td>http://cacm.acm.org/magazines/2011/7/109891-al...</td>\n",
       "      <td>1</td>\n",
       "      <td>0</td>\n",
       "      <td>poindontcare</td>\n",
       "      <td>2016-09-26 03:16:00</td>\n",
       "    </tr>\n",
       "    <tr>\n",
       "      <th>12578979</th>\n",
       "      <td>How the Data Vault Enables the Next-Gen Data W...</td>\n",
       "      <td>https://www.talend.com/blog/2016/05/12/talend-...</td>\n",
       "      <td>1</td>\n",
       "      <td>0</td>\n",
       "      <td>markgainor1</td>\n",
       "      <td>2016-09-26 03:14:00</td>\n",
       "    </tr>\n",
       "  </tbody>\n",
       "</table>\n",
       "</div>"
      ],
      "text/plain": [
       "                                                      title  \\\n",
       "id                                                            \n",
       "12579008  You have two days to comment if you want stem ...   \n",
       "12579005                         SQLAR  the SQLite Archiver   \n",
       "12578997  What if we just printed a flatscreen televisio...   \n",
       "12578989                                  algorithmic music   \n",
       "12578979  How the Data Vault Enables the Next-Gen Data W...   \n",
       "\n",
       "                                                        url  num_points  \\\n",
       "id                                                                        \n",
       "12579008  http://www.regulations.gov/document?D=FDA-2015...           1   \n",
       "12579005   https://www.sqlite.org/sqlar/doc/trunk/README.md           1   \n",
       "12578997  https://medium.com/vanmoof/our-secrets-out-f21...           1   \n",
       "12578989  http://cacm.acm.org/magazines/2011/7/109891-al...           1   \n",
       "12578979  https://www.talend.com/blog/2016/05/12/talend-...           1   \n",
       "\n",
       "          num_comments        author          created_at  \n",
       "id                                                        \n",
       "12579008             0       altstar 2016-09-26 03:26:00  \n",
       "12579005             0      blacksqr 2016-09-26 03:24:00  \n",
       "12578997             0  pavel_lishin 2016-09-26 03:19:00  \n",
       "12578989             0  poindontcare 2016-09-26 03:16:00  \n",
       "12578979             0   markgainor1 2016-09-26 03:14:00  "
      ]
     },
     "execution_count": 4,
     "metadata": {},
     "output_type": "execute_result"
    }
   ],
   "source": [
    "df_hn = pd.read_csv('../datasets/HN_posts_year_to_Sep_26_2016.csv', parse_dates=['created_at'], index_col=[0])\n",
    "df_hn.head(5)"
   ]
  },
  {
   "cell_type": "markdown",
   "metadata": {},
   "source": [
    "## Top 10 most upvoted posts"
   ]
  },
  {
   "cell_type": "code",
   "execution_count": null,
   "metadata": {
    "collapsed": false
   },
   "outputs": [],
   "source": [
    "df_top10 = df_hn[['title', 'num_points']].sort_values(by='num_points', ascending=False)\n",
    "df_top10"
   ]
  },
  {
   "cell_type": "markdown",
   "metadata": {},
   "source": [
    "## Top 10 domains with the most upvoted posts"
   ]
  },
  {
   "cell_type": "code",
   "execution_count": 5,
   "metadata": {
    "collapsed": false
   },
   "outputs": [
    {
     "data": {
      "text/html": [
       "<div>\n",
       "<table border=\"1\" class=\"dataframe\">\n",
       "  <thead>\n",
       "    <tr style=\"text-align: right;\">\n",
       "      <th></th>\n",
       "      <th>domain</th>\n",
       "      <th>num_points</th>\n",
       "    </tr>\n",
       "  </thead>\n",
       "  <tbody>\n",
       "    <tr>\n",
       "      <th>0</th>\n",
       "      <td>github.com</td>\n",
       "      <td>242884</td>\n",
       "    </tr>\n",
       "    <tr>\n",
       "      <th>1</th>\n",
       "      <td>medium.com</td>\n",
       "      <td>155871</td>\n",
       "    </tr>\n",
       "    <tr>\n",
       "      <th>2</th>\n",
       "      <td>www.nytimes.com</td>\n",
       "      <td>122514</td>\n",
       "    </tr>\n",
       "    <tr>\n",
       "      <th>3</th>\n",
       "      <td>techcrunch.com</td>\n",
       "      <td>68254</td>\n",
       "    </tr>\n",
       "    <tr>\n",
       "      <th>4</th>\n",
       "      <td>www.bloomberg.com</td>\n",
       "      <td>64489</td>\n",
       "    </tr>\n",
       "    <tr>\n",
       "      <th>5</th>\n",
       "      <td>www.theguardian.com</td>\n",
       "      <td>54207</td>\n",
       "    </tr>\n",
       "    <tr>\n",
       "      <th>6</th>\n",
       "      <td>arstechnica.com</td>\n",
       "      <td>46294</td>\n",
       "    </tr>\n",
       "    <tr>\n",
       "      <th>7</th>\n",
       "      <td>www.washingtonpost.com</td>\n",
       "      <td>46019</td>\n",
       "    </tr>\n",
       "    <tr>\n",
       "      <th>8</th>\n",
       "      <td>www.bbc.com</td>\n",
       "      <td>38406</td>\n",
       "    </tr>\n",
       "    <tr>\n",
       "      <th>9</th>\n",
       "      <td>www.youtube.com</td>\n",
       "      <td>37878</td>\n",
       "    </tr>\n",
       "  </tbody>\n",
       "</table>\n",
       "</div>"
      ],
      "text/plain": [
       "                   domain  num_points\n",
       "0              github.com      242884\n",
       "1              medium.com      155871\n",
       "2         www.nytimes.com      122514\n",
       "3          techcrunch.com       68254\n",
       "4       www.bloomberg.com       64489\n",
       "5     www.theguardian.com       54207\n",
       "6         arstechnica.com       46294\n",
       "7  www.washingtonpost.com       46019\n",
       "8             www.bbc.com       38406\n",
       "9         www.youtube.com       37878"
      ]
     },
     "execution_count": 5,
     "metadata": {},
     "output_type": "execute_result"
    }
   ],
   "source": [
    "import re\n",
    "\n",
    "df1 = df_hn.copy().dropna(subset=['url'])\n",
    "df1['domain'] = df1['url'].str.extract('https?://([\\w\\.]+)/?.*', flags=re.IGNORECASE, expand=False)\n",
    "df1_domain = df1[['domain', 'num_points']].groupby('domain')\n",
    "df_res = df1_domain.sum().sort_values(by='num_points', ascending=False).head(10)\n",
    "\n",
    "df_res.reset_index()"
   ]
  },
  {
   "cell_type": "markdown",
   "metadata": {},
   "source": [
    "## What is the best time to post?"
   ]
  },
  {
   "cell_type": "code",
   "execution_count": 7,
   "metadata": {
    "collapsed": false
   },
   "outputs": [
    {
     "data": {
      "text/plain": [
       "hour\n",
       "12    16.785927\n",
       "2     16.406170\n",
       "11    16.192910\n",
       "13    16.109430\n",
       "0     15.879906\n",
       "Name: num_points, dtype: float64"
      ]
     },
     "execution_count": 7,
     "metadata": {},
     "output_type": "execute_result"
    }
   ],
   "source": [
    "df_hn['hour'] = df_hn['created_at'].dt.hour\n",
    "df_groupby = df_hn.groupby('hour')\n",
    "df_groupby['num_points'].mean().sort_values(ascending=False).head(5)"
   ]
  },
  {
   "cell_type": "markdown",
   "metadata": {},
   "source": [
    "## How many posts are related to Python?"
   ]
  },
  {
   "cell_type": "code",
   "execution_count": 91,
   "metadata": {
    "collapsed": false
   },
   "outputs": [
    {
     "data": {
      "text/plain": [
       "2474"
      ]
     },
     "execution_count": 91,
     "metadata": {},
     "output_type": "execute_result"
    }
   ],
   "source": [
    "len(df_hn[df_hn['title'].str.contains(\"python\") | df_hn['title'].str.contains(\"Python\")].index)"
   ]
  }
 ],
 "metadata": {
  "kernelspec": {
   "display_name": "Python 3",
   "language": "python",
   "name": "python3"
  },
  "language_info": {
   "codemirror_mode": {
    "name": "ipython",
    "version": 3
   },
   "file_extension": ".py",
   "mimetype": "text/x-python",
   "name": "python",
   "nbconvert_exporter": "python",
   "pygments_lexer": "ipython3",
   "version": "3.5.1"
  }
 },
 "nbformat": 4,
 "nbformat_minor": 1
}
